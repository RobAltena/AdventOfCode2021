{
  "nbformat": 4,
  "nbformat_minor": 0,
  "metadata": {
    "colab": {
      "name": "Day3.ipynb",
      "private_outputs": true,
      "provenance": [],
      "authorship_tag": "ABX9TyPNOMvstdn02mNr9/xnjZrI",
      "include_colab_link": true
    },
    "kernelspec": {
      "name": "python3",
      "display_name": "Python 3"
    },
    "language_info": {
      "name": "python"
    }
  },
  "cells": [
    {
      "cell_type": "markdown",
      "metadata": {
        "id": "view-in-github",
        "colab_type": "text"
      },
      "source": [
        "<a href=\"https://colab.research.google.com/github/RobAltena/AdventOfCode2021/blob/main/Day3.ipynb\" target=\"_parent\"><img src=\"https://colab.research.google.com/assets/colab-badge.svg\" alt=\"Open In Colab\"/></a>"
      ]
    },
    {
      "cell_type": "code",
      "metadata": {
        "id": "aZOO8DAz2x_7"
      },
      "source": [
        "import pandas as pd\n",
        "df = pd.read_csv('https://raw.githubusercontent.com/RobAltena/AdventOfCode2021/main/advent_day3_input.txt',header=None, usecols=[0], dtype={0:str})\n",
        "df = df[0].str.split(pat =\"\", expand = True).drop([0, 13], axis=1).astype(int)"
      ],
      "execution_count": null,
      "outputs": []
    },
    {
      "cell_type": "code",
      "metadata": {
        "id": "DvpwoTQJ4WKC"
      },
      "source": [
        "df2 = df.mean(axis=0).round().astype(int)\n",
        "gamma_rate = int(df2.astype(str).sum(), 2)\n",
        "epsilon_rate= int(df2.map({0:\"1\", 1:\"0\"}).sum(), 2)\n",
        "\n",
        "print(\"Answer to Day 3 part 1: \", gamma_rate * epsilon_rate)"
      ],
      "execution_count": null,
      "outputs": []
    },
    {
      "cell_type": "code",
      "metadata": {
        "id": "faEHVWsGBVFx"
      },
      "source": [
        "def reduce_df(df, filter_func):\n",
        "  col_index = -1\n",
        "  while  df.shape[0] > 1 :\n",
        "    col_index +=1\n",
        "    col = df.columns[col_index]\n",
        "    df = df[df[col] == filter_func(df[col].mean())]\n",
        "\n",
        "  return int(df.iloc[0].astype(str).sum(), 2)\n",
        "\n",
        "def most_common_value(x): # Do not use round.... \n",
        "  return int(x + 0.5)\n",
        "\n",
        "def least_common_value(x):\n",
        "  return 1 - int(x + 0.5)\n",
        "\n",
        "oxygen_generator_rating = reduce_df(df, most_common_value)\n",
        "CO2_scrubber_rating = reduce_df(df, least_common_value)\n",
        "print(\"Answer to Day 3 part 2: \", oxygen_generator_rating * CO2_scrubber_rating)\n"
      ],
      "execution_count": null,
      "outputs": []
    }
  ]
}