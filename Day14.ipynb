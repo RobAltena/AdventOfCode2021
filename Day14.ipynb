{
  "nbformat": 4,
  "nbformat_minor": 0,
  "metadata": {
    "colab": {
      "name": "Day14.ipynb",
      "private_outputs": true,
      "provenance": [],
      "authorship_tag": "ABX9TyM5GxwXnUpSozE75ZmGmeF8",
      "include_colab_link": true
    },
    "kernelspec": {
      "name": "python3",
      "display_name": "Python 3"
    },
    "language_info": {
      "name": "python"
    }
  },
  "cells": [
    {
      "cell_type": "markdown",
      "metadata": {
        "id": "view-in-github",
        "colab_type": "text"
      },
      "source": [
        "<a href=\"https://colab.research.google.com/github/RobAltena/AdventOfCode2021/blob/main/Day14.ipynb\" target=\"_parent\"><img src=\"https://colab.research.google.com/assets/colab-badge.svg\" alt=\"Open In Colab\"/></a>"
      ]
    },
    {
      "cell_type": "code",
      "execution_count": null,
      "metadata": {
        "id": "Dzkxz5D_YPxm"
      },
      "outputs": [],
      "source": [
        "import requests\n",
        "from collections import Counter, defaultdict\n",
        "\n",
        "req = requests.get(\"https://raw.githubusercontent.com/RobAltena/AdventOfCode2021/main/advent_day14_input.txt\").text"
      ]
    },
    {
      "cell_type": "code",
      "source": [
        "polymer_template, pair_insertion_rules = req.split('\\n\\n')\n",
        "pair_insertion_rules = pair_insertion_rules.split('\\n')[:-1]\n",
        "rules_dict = dict(map(lambda x: x.split(' -> '),  pair_insertion_rules))\n",
        "\n",
        "def fn(x1, x2):\n",
        "    return x1 + rules_dict[x1 + x2]\n",
        "\n",
        "def exec_step(pt):\n",
        "  return ''.join((map(fn, pt, pt[1:]))) + pt[-1]\n",
        "\n",
        "x = polymer_template\n",
        "for i in range(10):\n",
        "  x = exec_step(x)\n",
        "\n",
        "counts = Counter(x).most_common()\n",
        "print(\"Day 14 part 1:\", counts[0][1] - counts[-1][1])"
      ],
      "metadata": {
        "id": "RUAjZ2t8ZIT-"
      },
      "execution_count": null,
      "outputs": []
    },
    {
      "cell_type": "code",
      "source": [
        "# Turns out to be similar to day 6. No need to keep track of the full sequence.\n",
        "# Just keep track of the pairs and characters.\n",
        "x = polymer_template\n",
        "pair_counts = Counter(map(lambda x1, x2: x1+x2, x, x[1:]))\n",
        "char_counts = Counter(x)\n",
        "\n",
        "for step in range(40):\n",
        "  new_pair_counts = defaultdict(int)\n",
        "  for key, val in pair_counts.items():\n",
        "    new_char = rules_dict[key]\n",
        "    char_counts[new_char] += val\n",
        "    new_pair_counts[ key[0] + new_char] += val\n",
        "    new_pair_counts[ new_char + key[1]] += val\n",
        "  pair_counts = new_pair_counts\n",
        "\n",
        "counts = char_counts.most_common()\n",
        "print(\"Day 14 part 2:\",  counts[0][1] - counts[-1][1])"
      ],
      "metadata": {
        "id": "3fVh_yGXXhNW"
      },
      "execution_count": null,
      "outputs": []
    }
  ]
}