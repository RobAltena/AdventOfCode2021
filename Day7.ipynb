{
  "nbformat": 4,
  "nbformat_minor": 0,
  "metadata": {
    "colab": {
      "name": "Day7.ipynb",
      "private_outputs": true,
      "provenance": [],
      "authorship_tag": "ABX9TyMCP3Feqiagb9nm2QLCWoAo",
      "include_colab_link": true
    },
    "kernelspec": {
      "name": "python3",
      "display_name": "Python 3"
    },
    "language_info": {
      "name": "python"
    }
  },
  "cells": [
    {
      "cell_type": "markdown",
      "metadata": {
        "id": "view-in-github",
        "colab_type": "text"
      },
      "source": [
        "<a href=\"https://colab.research.google.com/github/RobAltena/AdventOfCode2021/blob/main/Day7.ipynb\" target=\"_parent\"><img src=\"https://colab.research.google.com/assets/colab-badge.svg\" alt=\"Open In Colab\"/></a>"
      ]
    },
    {
      "cell_type": "code",
      "metadata": {
        "id": "qbu42TOhPpv2"
      },
      "source": [
        "import requests\n",
        "import numpy as np\n",
        "\n",
        "req = requests.get(\"https://raw.githubusercontent.com/RobAltena/AdventOfCode2021/main/advent_day7_input.txt\").text\n",
        "# req = \"16,1,2,0,4,2,7,1,2,14\""
      ],
      "execution_count": null,
      "outputs": []
    },
    {
      "cell_type": "code",
      "metadata": {
        "id": "HnLEqC2BSgQ2"
      },
      "source": [
        "arr = np.array(req.split(','), int)\n",
        "loc_range = np.arange(arr.min(), arr.max()+1, 1, int)\n",
        "fuel_needed = np.array(list(map(lambda x: abs(arr - x).sum(), loc_range)))\n",
        "print(\"Day 7 part 1:\", fuel_needed.min())"
      ],
      "execution_count": null,
      "outputs": []
    },
    {
      "cell_type": "code",
      "metadata": {
        "id": "NFY3X4OnaxEP"
      },
      "source": [
        "def fuel_needed_part2(x):\n",
        "  moves = abs(arr - x)\n",
        "  fuel_array = np.array(list(map(lambda x2: np.arange(x2+1).sum(), moves)))\n",
        "  return fuel_array.sum()\n",
        "\n",
        "fuel_needed_2 = np.array(list(map(fuel_needed_part2, loc_range)))\n",
        "print(\"Day 7 part 2:\", fuel_needed_2.min())"
      ],
      "execution_count": null,
      "outputs": []
    }
  ]
}