{
  "nbformat": 4,
  "nbformat_minor": 0,
  "metadata": {
    "colab": {
      "name": "Day9.ipynb",
      "private_outputs": true,
      "provenance": [],
      "collapsed_sections": [],
      "authorship_tag": "ABX9TyMRReotQUgNuKSbPTr0c3RC",
      "include_colab_link": true
    },
    "kernelspec": {
      "name": "python3",
      "display_name": "Python 3"
    },
    "language_info": {
      "name": "python"
    }
  },
  "cells": [
    {
      "cell_type": "markdown",
      "metadata": {
        "id": "view-in-github",
        "colab_type": "text"
      },
      "source": [
        "<a href=\"https://colab.research.google.com/github/RobAltena/AdventOfCode2021/blob/main/Day9.ipynb\" target=\"_parent\"><img src=\"https://colab.research.google.com/assets/colab-badge.svg\" alt=\"Open In Colab\"/></a>"
      ]
    },
    {
      "cell_type": "code",
      "execution_count": null,
      "metadata": {
        "id": "NbB3FXLckb4J"
      },
      "outputs": [],
      "source": [
        "from io import StringIO\n",
        "\n",
        "import numpy as np\n",
        "import pandas as pd\n",
        "\n",
        "df = pd.read_csv('https://raw.githubusercontent.com/RobAltena/AdventOfCode2021/main/advent_day9_input.txt',header=None, usecols=[0], dtype=str)\n",
        "df = df[0].str.split(pat =\"\", expand = True).drop([0, 101], axis=1).astype(int)\n",
        "\n",
        "test = \"\"\"2199943210\n",
        "3987894921\n",
        "9856789892\n",
        "8767896789\n",
        "9899965678\"\"\"\n",
        "#df = pd.read_csv(StringIO(test),header=None, usecols=[0], dtype=str)\n",
        "#df = df[0].str.split(pat =\"\", expand = True).drop([0, 11], axis=1).astype(int)"
      ]
    },
    {
      "cell_type": "code",
      "source": [
        "heightmap = df.values\n",
        "\n",
        "xd = np.roll(heightmap, 1, axis=0)\n",
        "xd[0, : ] = 99\n",
        "\n",
        "xu = np.roll(heightmap, -1, axis=0)\n",
        "xu[-1, : ] = 99\n",
        "\n",
        "xr = np.roll(heightmap, 1, axis=1)\n",
        "xr[:, 0 ] = 99\n",
        "\n",
        "xl = np.roll(heightmap, -1, axis=1)\n",
        "xl[:, -1 ] = 99\n",
        "\n",
        "min_condition = np.less(heightmap, xd) & np.less(heightmap, xu) & np.less(heightmap, xr) & np.less(heightmap, xl) \n",
        "idx = np.where(min_condition)\n",
        "\n",
        "print(\"day9, part 1: \", (heightmap[idx] + 1).sum())\n"
      ],
      "metadata": {
        "id": "UL2u7INPmY8j"
      },
      "execution_count": null,
      "outputs": []
    },
    {
      "cell_type": "code",
      "source": [
        "def surrounding_cells(loc, heightmap):\n",
        "  directions = [[-1, 0], [1, 0], [0, -1], [0, 1]]\n",
        "  all_4 = map(lambda x: [x[0] + loc[0], x[1] + loc[1]], directions)\n",
        "  map_borders = filter(lambda x: x[0] >=0 and x[0] <heightmap.shape[0] and x[1] >=0 and x[1] <heightmap.shape[1], all_4)\n",
        "  loc_height = heightmap[loc[0], loc[1]]\n",
        "  height_filter = filter(lambda x: loc_height < heightmap[ x[0], x[1]] < 9, map_borders)\n",
        "  return list(height_filter)\n",
        "\n",
        "def basin_size(loc):\n",
        "  loc = loc.tolist()\n",
        "  to_check = [loc]\n",
        "  basin = []\n",
        "\n",
        "  while len(to_check) > 0:\n",
        "    loc = to_check.pop()\n",
        "    basin.append(loc)\n",
        "    new_list = surrounding_cells(loc, heightmap)\n",
        "    for loc in new_list:\n",
        "      if (loc not in to_check):\n",
        "        if (loc not in basin):\n",
        "          to_check.append(loc)\n",
        "  \n",
        "  return len(basin)"
      ],
      "metadata": {
        "id": "cMkDPAJxwYL4"
      },
      "execution_count": null,
      "outputs": []
    },
    {
      "cell_type": "code",
      "source": [
        "basin_locations = np.argwhere(min_condition)\n",
        "basin_sizes = np.array(list(map(basin_size,  basin_locations)), int)\n",
        "print(\"day9, part 2: \", -np.partition(-basin_sizes, 3)[:3].prod())\n"
      ],
      "metadata": {
        "id": "zJ3pj_xZ3MR8"
      },
      "execution_count": null,
      "outputs": []
    }
  ]
}