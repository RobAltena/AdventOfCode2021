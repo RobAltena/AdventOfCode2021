{
  "nbformat": 4,
  "nbformat_minor": 0,
  "metadata": {
    "colab": {
      "name": "Day6.ipynb",
      "private_outputs": true,
      "provenance": [],
      "authorship_tag": "ABX9TyPho+Et8dgYPvon6Mb5UKlF",
      "include_colab_link": true
    },
    "kernelspec": {
      "name": "python3",
      "display_name": "Python 3"
    },
    "language_info": {
      "name": "python"
    }
  },
  "cells": [
    {
      "cell_type": "markdown",
      "metadata": {
        "id": "view-in-github",
        "colab_type": "text"
      },
      "source": [
        "<a href=\"https://colab.research.google.com/github/RobAltena/AdventOfCode2021/blob/main/Day6.ipynb\" target=\"_parent\"><img src=\"https://colab.research.google.com/assets/colab-badge.svg\" alt=\"Open In Colab\"/></a>"
      ]
    },
    {
      "cell_type": "code",
      "metadata": {
        "id": "tfFF5f5qI5iW"
      },
      "source": [
        "import requests\n",
        "import numpy as np\n",
        "\n",
        "req = requests.get(\"https://raw.githubusercontent.com/RobAltena/AdventOfCode2021/main/advent_day6_input.txt\").text\n",
        "# req = \"3,4,3,1,2\""
      ],
      "execution_count": null,
      "outputs": []
    },
    {
      "cell_type": "code",
      "metadata": {
        "id": "vuaJCOa-J9b6"
      },
      "source": [
        "arr2 = np.array(req.split(','), int)\n",
        "\n",
        "def simulate(arr, n_days):\n",
        "  for i in range(n_days):\n",
        "    arr = arr - 1\n",
        "    new_fish = np.sum(arr == -1)\n",
        "    if new_fish > 0:\n",
        "      newborns = np.zeros([new_fish], int) + 8\n",
        "      arr = np.concatenate([arr, newborns])\n",
        "\n",
        "    arr = np.where(arr == -1, 6, arr)\n",
        "\n",
        "  return arr.shape[0]\n",
        "\n",
        "print(\"Day 6 part 1:\", simulate(arr2, 80))\n",
        "# print(\"Day 6 part 2:\", simulate(arr2, 256))  # Takes forever and crashes colab."
      ],
      "execution_count": null,
      "outputs": []
    },
    {
      "cell_type": "code",
      "metadata": {
        "id": "BhrfzokuRiDV"
      },
      "source": [
        "# No need to simulate each fish. Just keep track of the numbers per age.\n",
        "def simulate_part2(arr, n_days):\n",
        "  ind, counts = np.unique(arr, return_counts=True)\n",
        "  age_arr = np.zeros(9, int)\n",
        "  age_arr[ind] = counts\n",
        "\n",
        "  for i in range(n_days):\n",
        "    age_arr = np.roll(age_arr, -1)\n",
        "    age_arr[6] += age_arr[8]\n",
        "\n",
        "  return age_arr.sum()\n",
        "\n",
        "print(\"Day 6 part 2:\", simulate_part2(arr2, 256))"
      ],
      "execution_count": null,
      "outputs": []
    }
  ]
}