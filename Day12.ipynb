{
  "nbformat": 4,
  "nbformat_minor": 0,
  "metadata": {
    "colab": {
      "name": "Day12.ipynb",
      "private_outputs": true,
      "provenance": [],
      "authorship_tag": "ABX9TyN19opcfcQlrF8xRB5n6Gat",
      "include_colab_link": true
    },
    "kernelspec": {
      "name": "python3",
      "display_name": "Python 3"
    },
    "language_info": {
      "name": "python"
    }
  },
  "cells": [
    {
      "cell_type": "markdown",
      "metadata": {
        "id": "view-in-github",
        "colab_type": "text"
      },
      "source": [
        "<a href=\"https://colab.research.google.com/github/RobAltena/AdventOfCode2021/blob/main/Day12.ipynb\" target=\"_parent\"><img src=\"https://colab.research.google.com/assets/colab-badge.svg\" alt=\"Open In Colab\"/></a>"
      ]
    },
    {
      "cell_type": "code",
      "source": [
        "import requests\n",
        "from collections import defaultdict, Counter\n",
        "\n",
        "req = requests.get(\"https://raw.githubusercontent.com/RobAltena/AdventOfCode2021/main/advent_day12_input.txt\").text\n",
        "\n",
        "graph = defaultdict(list)\n",
        "for line in req.split('\\n')[:-1]:\n",
        "  nodes = line.split('-')\n",
        "  graph[nodes[0]].append(nodes[1])\n",
        "  graph[nodes[1]].append(nodes[0])\n",
        "\n",
        "def find_path(s, e, path):\n",
        "  global path_count\n",
        "\n",
        "  path.append(s)\n",
        "\n",
        "  if s == e :\n",
        "    path_count += 1\n",
        "  else:\n",
        "    visited = set(path)\n",
        "    for node in graph[s]:\n",
        "      if (node not in visited) or (not node.islower()):\n",
        "        find_path(node, e, path)\n",
        "\n",
        "  path.pop()\n",
        "  \n",
        "path_count = 0\n",
        "path = []\n",
        "find_path('start', 'end', path)\n",
        "print(\"Day 12 part 1:\", path_count)"
      ],
      "metadata": {
        "id": "ERybRm1XN2cr"
      },
      "execution_count": null,
      "outputs": []
    },
    {
      "cell_type": "code",
      "source": [
        "def find_path(s, e, path):\n",
        "  global path_count\n",
        "\n",
        "  path.append(s)\n",
        "\n",
        "  if s == e :\n",
        "    path_count += 1\n",
        "    # print(*path, sep=\",\")\n",
        "  else:\n",
        "    for node in graph[s]:\n",
        "      visited = set(path)\n",
        "      if (node in visited) and node.islower():\n",
        "        if node not in ['start', 'end']:\n",
        "          lower_list = list(filter(lambda x: x.islower(), path))\n",
        "          occurence_count = Counter(lower_list).most_common(1)[0][1]\n",
        "          if occurence_count == 1:\n",
        "            find_path(node, e, path)\n",
        "\n",
        "      else:\n",
        "        find_path(node, e, path)\n",
        "\n",
        "  path.pop()\n",
        "\n",
        "path = []\n",
        "path_count = 0\n",
        "find_path('start', 'end', path)\n",
        "print(\"Day 12 part 2:\",path_count)\n",
        "  "
      ],
      "metadata": {
        "id": "EwlUcY_CI9Uu"
      },
      "execution_count": null,
      "outputs": []
    }
  ]
}