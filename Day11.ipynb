{
  "nbformat": 4,
  "nbformat_minor": 0,
  "metadata": {
    "colab": {
      "name": "Day11.ipynb",
      "private_outputs": true,
      "provenance": [],
      "authorship_tag": "ABX9TyP3MeJXfX7UbghApqjk3WOT",
      "include_colab_link": true
    },
    "kernelspec": {
      "name": "python3",
      "display_name": "Python 3"
    },
    "language_info": {
      "name": "python"
    }
  },
  "cells": [
    {
      "cell_type": "markdown",
      "metadata": {
        "id": "view-in-github",
        "colab_type": "text"
      },
      "source": [
        "<a href=\"https://colab.research.google.com/github/RobAltena/AdventOfCode2021/blob/main/Day11.ipynb\" target=\"_parent\"><img src=\"https://colab.research.google.com/assets/colab-badge.svg\" alt=\"Open In Colab\"/></a>"
      ]
    },
    {
      "cell_type": "code",
      "execution_count": null,
      "metadata": {
        "id": "exPS7iAG_sZm"
      },
      "outputs": [],
      "source": [
        "import numpy as np\n",
        "\n",
        "input = \"\"\"2138862165\n",
        "2726378448\n",
        "3235172758\n",
        "6281242643\n",
        "4256223158\n",
        "1112268142\n",
        "1162836182\n",
        "1543525861\n",
        "1882656326\n",
        "8844263151\"\"\"\n",
        "\n",
        "arr = np.array(list(map(list, input.split('\\n'))), dtype = int)"
      ]
    },
    {
      "cell_type": "code",
      "source": [
        "border_map = np.zeros((arr.shape[0]+2,arr.shape[1]+2), int) -9\n",
        "border_map[1:-1, 1:-1] = arr\n",
        "border_idx = np.where(border_map<0)\n",
        "flash_count = 0\n",
        "\n",
        "for step in range(100):\n",
        "  border_map +=1\n",
        "  border_map[border_idx] = -9\n",
        "  flashes = np.transpose(np.where(border_map == 10))\n",
        "\n",
        "  while True:\n",
        "    new_flashes = []\n",
        "    for x,y in flashes:\n",
        "      flash_count += 1\n",
        "      border_map[x-1:x+2, y-1:y+2] += 1\n",
        "      new_flashes.append(np.transpose(np.where(border_map[x-1:x+2, y-1:y+2] == 10)) + (x-1,y-1))\n",
        "\n",
        "    if len(new_flashes) == 0:\n",
        "      break\n",
        "\n",
        "    flashes = np.vstack(new_flashes)\n",
        "\n",
        "  border_map[np.where(border_map >=10)] = 0\n",
        "\n",
        "print(\"Day 11 part 1:\", flash_count)"
      ],
      "metadata": {
        "id": "DTRBRElXEdie"
      },
      "execution_count": null,
      "outputs": []
    },
    {
      "cell_type": "code",
      "source": [
        "#Copy & paste for part 2. just different loop termination conditions.\n",
        "\n",
        "border_map = np.zeros((arr.shape[0]+2,arr.shape[1]+2), int) -9\n",
        "border_map[1:-1, 1:-1] = arr\n",
        "border_idx = np.where(border_map<0)\n",
        "flash_count = 0\n",
        "step = 0\n",
        "\n",
        "while flash_count < 100:\n",
        "  step += 1\n",
        "  flash_count = 0\n",
        "  border_map +=1\n",
        "  border_map[border_idx] = -9\n",
        "  flashes = np.transpose(np.where(border_map == 10))\n",
        "\n",
        "  while True:\n",
        "    new_flashes = []\n",
        "    for x,y in flashes:\n",
        "      flash_count += 1\n",
        "      border_map[x-1:x+2, y-1:y+2] += 1\n",
        "      new_flashes.append(np.transpose(np.where(border_map[x-1:x+2, y-1:y+2] == 10)) + (x-1,y-1))\n",
        "\n",
        "    if len(new_flashes) == 0:\n",
        "      break\n",
        "\n",
        "    flashes = np.vstack(new_flashes)\n",
        "\n",
        "  border_map[np.where(border_map >=10)] = 0\n",
        "\n",
        "print(\"Day 11 part 2:\", step)"
      ],
      "metadata": {
        "id": "smpyRnLFg-nq"
      },
      "execution_count": null,
      "outputs": []
    }
  ]
}