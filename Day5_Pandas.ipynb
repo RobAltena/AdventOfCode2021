{
  "nbformat": 4,
  "nbformat_minor": 0,
  "metadata": {
    "colab": {
      "name": "Day5_try2.ipynb",
      "private_outputs": true,
      "provenance": [],
      "authorship_tag": "ABX9TyMPf1vaoCt+k2tWz5xaKc1C",
      "include_colab_link": true
    },
    "kernelspec": {
      "name": "python3",
      "display_name": "Python 3"
    },
    "language_info": {
      "name": "python"
    }
  },
  "cells": [
    {
      "cell_type": "markdown",
      "metadata": {
        "id": "view-in-github",
        "colab_type": "text"
      },
      "source": [
        "<a href=\"https://colab.research.google.com/github/RobAltena/AdventOfCode2021/blob/main/Day5_Pandas.ipynb\" target=\"_parent\"><img src=\"https://colab.research.google.com/assets/colab-badge.svg\" alt=\"Open In Colab\"/></a>"
      ]
    },
    {
      "cell_type": "code",
      "metadata": {
        "id": "5l5xyYJz-1O9"
      },
      "source": [
        "import requests\n",
        "import numpy as np\n",
        "import pandas as pd\n",
        "\n",
        "\n",
        "#\n",
        "req = \"\"\"0,9 -> 5,9\n",
        "8,0 -> 0,8\n",
        "9,4 -> 3,4\n",
        "2,2 -> 2,1\n",
        "7,0 -> 7,4\n",
        "6,4 -> 2,0\n",
        "0,9 -> 2,9\n",
        "3,4 -> 1,4\n",
        "0,0 -> 8,8\n",
        "5,5 -> 8,2\n",
        "\"\"\"\n",
        "req = requests.get(\"https://raw.githubusercontent.com/RobAltena/AdventOfCode2021/main/advent_day5_input.txt\").text\n",
        "\n",
        "# Python has no sign. This will do.\n",
        "def sign(x):\n",
        "  return int(x / abs(x))\n",
        "\n",
        "# range from x1 to x2. \n",
        "# work for x1 == x2, works for x1>x2 and x1<x2\n",
        "def make_list(x1, x2):\n",
        "  dx = x2 - x1\n",
        "  if dx == 0:\n",
        "    return [x1]\n",
        "  step = sign(dx)\n",
        "  i = x1-step\n",
        "  res = []\n",
        "  while True:\n",
        "    i+=sign(dx)\n",
        "    res.append(i)\n",
        "    if i == x2:\n",
        "      break\n",
        "\n",
        "  return res\n"
      ],
      "execution_count": null,
      "outputs": []
    },
    {
      "cell_type": "code",
      "metadata": {
        "id": "icIcW3qL--KJ"
      },
      "source": [
        "lines = req.split('\\n')\n",
        "lines.pop() # Hack: removes the last (empty) line."
      ],
      "execution_count": null,
      "outputs": []
    },
    {
      "cell_type": "code",
      "metadata": {
        "id": "7AIxtFy8_JTq"
      },
      "source": [
        "def get_all_pixels_for_lines_part1(lines):\n",
        "  all_pixels = []\n",
        "  for line in lines:\n",
        "    points_line = line.split(' -> ')\n",
        "    points_str = map(lambda x: x.split(','), points_line)\n",
        "    points = list(map(lambda x: (int(x[0]), int(x[1])), points_str))\n",
        "    x1, y1 = points[0]\n",
        "    x2, y2 = points[1]\n",
        "    pixels = []\n",
        "    if (x1 == x2) or (y1 == y2): # only horizontal/vertical lines.\n",
        "      for x in make_list(x1,x2):\n",
        "        for y in make_list(y1,y2):\n",
        "          pixels.append((x,y))\n",
        "\n",
        "    #print(line, pixels)\n",
        "    all_pixels = [*all_pixels, *pixels]\n",
        "    \n",
        "  return all_pixels\n",
        "\n",
        "def count_overlapping_pixels(all_pixels):\n",
        "  count = 0\n",
        "  for pixel in set(all_pixels):\n",
        "    if all_pixels.count(pixel) > 1:\n",
        "      count += 1\n",
        "  return count\n",
        "\n"
      ],
      "execution_count": null,
      "outputs": []
    },
    {
      "cell_type": "code",
      "metadata": {
        "id": "dJbiihkbMTeO"
      },
      "source": [
        "all_pixels = get_all_pixels_for_lines_part1(lines)\n",
        "count = count_overlapping_pixels(all_pixels)\n",
        "print(\"Day 5 part 1:\", count)"
      ],
      "execution_count": null,
      "outputs": []
    },
    {
      "cell_type": "code",
      "metadata": {
        "id": "wr15U9EiPlqx"
      },
      "source": [
        "def get_all_pixels_for_lines_part2(lines):\n",
        "  all_pixels = []\n",
        "  for line in lines:\n",
        "    points_line = line.split(' -> ')\n",
        "    points_str = map(lambda x: x.split(','), points_line)\n",
        "    points = list(map(lambda x: (int(x[0]), int(x[1])), points_str))\n",
        "    x1, y1 = points[0]\n",
        "    x2, y2 = points[1]\n",
        "    pixels = []\n",
        "    if (x1 == x2) or (y1 == y2): # only horizontal/vertical lines.\n",
        "      for x in make_list(x1,x2):\n",
        "          for y in make_list(y1,y2):\n",
        "            pixels.append((x,y))\n",
        "    else: #diagonal\n",
        "      for x,y in zip(make_list(x1,x2), make_list(y1,y2)):\n",
        "          pixels.append((x,y))\n",
        "\n",
        "    #print(line, pixels)\n",
        "    all_pixels = [*all_pixels, *pixels]\n",
        "    \n",
        "  return all_pixels\n"
      ],
      "execution_count": null,
      "outputs": []
    },
    {
      "cell_type": "code",
      "metadata": {
        "id": "ERqNWYu-PtRi"
      },
      "source": [
        "all_pixels = get_all_pixels_for_lines_part2(lines)\n",
        "count = count_overlapping_pixels(all_pixels)\n",
        "print(\"Day 5 part 2:\", count)"
      ],
      "execution_count": null,
      "outputs": []
    }
  ]
}