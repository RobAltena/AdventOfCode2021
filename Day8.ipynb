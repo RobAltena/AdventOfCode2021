{
  "nbformat": 4,
  "nbformat_minor": 0,
  "metadata": {
    "colab": {
      "name": "Day8.ipynb",
      "private_outputs": true,
      "provenance": [],
      "authorship_tag": "ABX9TyPg3k1Gayag2/EOwfJ/4HuS",
      "include_colab_link": true
    },
    "kernelspec": {
      "name": "python3",
      "display_name": "Python 3"
    },
    "language_info": {
      "name": "python"
    }
  },
  "cells": [
    {
      "cell_type": "markdown",
      "metadata": {
        "id": "view-in-github",
        "colab_type": "text"
      },
      "source": [
        "<a href=\"https://colab.research.google.com/github/RobAltena/AdventOfCode2021/blob/main/Day8.ipynb\" target=\"_parent\"><img src=\"https://colab.research.google.com/assets/colab-badge.svg\" alt=\"Open In Colab\"/></a>"
      ]
    },
    {
      "cell_type": "code",
      "execution_count": null,
      "metadata": {
        "id": "87a3Y94TZ57H"
      },
      "outputs": [],
      "source": [
        "import requests\n",
        "import numpy as np\n",
        "import pandas as pd\n",
        "\n",
        "req = requests.get(\"https://raw.githubusercontent.com/RobAltena/AdventOfCode2021/main/advent_day8_input.txt\").text\n"
      ]
    },
    {
      "cell_type": "code",
      "source": [
        "req_test = \"\"\"be cfbegad cbdgef fgaecd cgeb fdcge agebfd fecdb fabcd edb | fdgacbe cefdb cefbgd gcbe\n",
        "edbfga begcd cbg gc gcadebf fbgde acbgfd abcde gfcbed gfec | fcgedb cgb dgebacf gc\n",
        "fgaebd cg bdaec gdafb agbcfd gdcbef bgcad gfac gcb cdgabef | cg cg fdcagb cbg\n",
        "fbegcd cbd adcefb dageb afcb bc aefdc ecdab fgdeca fcdbega | efabcd cedba gadfec cb\n",
        "aecbfdg fbg gf bafeg dbefa fcge gcbea fcaegb dgceab fcbdga | gecf egdcabf bgf bfgea\n",
        "fgeab ca afcebg bdacfeg cfaedg gcfdb baec bfadeg bafgc acf | gebdcfa ecba ca fadegcb\n",
        "dbcfg fgd bdegcaf fgec aegbdf ecdfab fbedc dacgb gdcebf gf | cefg dcbef fcge gbcadfe\n",
        "bdfegc cbegaf gecbf dfcage bdacg ed bedf ced adcbefg gebcd | ed bcgafe cdgba cbgef\n",
        "egadfb cdbfeg cegd fecab cgb gbdefca cg fgcdab egfdb bfceg | gbdfcae bgc cg cgb\n",
        "gcafb gcf dcaebfg ecagb gf abcdeg gaef cafbge fdbac fegbdc | fgae cfgab fg bagce\n",
        "\"\"\""
      ],
      "metadata": {
        "id": "3zMvBNaMdG-0"
      },
      "execution_count": null,
      "outputs": []
    },
    {
      "cell_type": "code",
      "source": [
        "lines = req.split('\\n')[:-1]"
      ],
      "metadata": {
        "id": "uqDnLFKGbrCY"
      },
      "execution_count": null,
      "outputs": []
    },
    {
      "cell_type": "code",
      "source": [
        "# Create a list of digits in the four_digit_output_values\n",
        "four_digit_output_values = list(map(lambda x: x.split(' | ')[1], lines))\n",
        "digits_list =list(map(lambda x: x.split(' '), four_digit_output_values))\n",
        "digits = list(np.concatenate(digits_list))\n",
        "\n",
        "# count the number of elements per digit.\n",
        "values, counts = np.unique(list(map(lambda x: len(x), digits)), return_counts=True)\n",
        "\n",
        "# \"digits 1, 4, 7, and 8 each use a unique number of segments\" --> 2, 4, 3, 7\n",
        "print(\"Day 8 part 1:\", counts[np.isin(values, [2, 4, 3, 7])].sum())"
      ],
      "metadata": {
        "id": "UrSKCESIdgsa"
      },
      "execution_count": null,
      "outputs": []
    },
    {
      "cell_type": "code",
      "source": [
        "def output_for_entry(line):\n",
        "  line_split = line.split(' | ')\n",
        "  signal_patterns = line_split[0].split(' ')\n",
        "  signal_patterns = list(map(lambda x: set(x), signal_patterns))\n",
        "  four_digit_output = line_split[1]\n",
        "\n",
        "  # look up the known digits.\n",
        "  pattern_1 = list(filter(lambda x: len(x) == 2, signal_patterns))[0]\n",
        "  pattern_4 = list(filter(lambda x: len(x) == 4, signal_patterns))[0]\n",
        "  pattern_7 = list(filter(lambda x: len(x) == 3, signal_patterns))[0]\n",
        "  pattern_8 = list(filter(lambda x: len(x) == 7, signal_patterns))[0]\n",
        "\n",
        "  pattern_069 = list(filter(lambda x: len(x) == 6, signal_patterns))\n",
        "  pattern_235 = list(filter(lambda x: len(x) == 5, signal_patterns))\n",
        "\n",
        "  # only the 3 has all patterns of 1.\n",
        "  pattern_3 = list(filter(lambda x: len(pattern_1 - x) == 0, pattern_235))[0]\n",
        "  pattern_235.remove(pattern_3)\n",
        "\n",
        "  # only the 6 has just 1 patterns of 1.\n",
        "  pattern_6 = list(filter(lambda x: len(pattern_1 - x) == 1, pattern_069))[0]\n",
        "  pattern_069.remove(pattern_6)\n",
        "\n",
        "  # 4 is part of 9, not 0.\n",
        "  pattern_9 = list(filter(lambda x: len(pattern_4 - x) == 0, pattern_069))[0]\n",
        "  pattern_069.remove(pattern_9)\n",
        "  pattern_0 = pattern_069[0]\n",
        "\n",
        "  # 6-5 is one element\n",
        "  pattern_5 = list(filter(lambda x: len(pattern_6 - x) == 1, pattern_235))[0]\n",
        "  pattern_235.remove(pattern_5)\n",
        "  pattern_2 = pattern_235[0]\n",
        "\n",
        "  patterns = [pattern_0,pattern_1,pattern_2,pattern_3,pattern_4,pattern_5,pattern_6,pattern_7, pattern_8, pattern_9]\n",
        "  four_digits = list(map(lambda x: patterns.index(set(x)), four_digit_output.split(' ')))\n",
        "  return int(''.join(map(str, four_digits)))\n",
        "\n",
        "print(\"Day 8 part 2:\", np.array(list(map(output_for_entry, lines))).sum())\n"
      ],
      "metadata": {
        "id": "nDhE9raeo-XJ"
      },
      "execution_count": null,
      "outputs": []
    }
  ]
}
