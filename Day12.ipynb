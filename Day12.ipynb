{
  "nbformat": 4,
  "nbformat_minor": 0,
  "metadata": {
    "colab": {
      "name": "Day12.ipynb",
      "private_outputs": true,
      "provenance": [],
      "authorship_tag": "ABX9TyNgGDRD9lebQKNR7Q54RK/H",
      "include_colab_link": true
    },
    "kernelspec": {
      "name": "python3",
      "display_name": "Python 3"
    },
    "language_info": {
      "name": "python"
    }
  },
  "cells": [
    {
      "cell_type": "markdown",
      "metadata": {
        "id": "view-in-github",
        "colab_type": "text"
      },
      "source": [
        "<a href=\"https://colab.research.google.com/github/RobAltena/AdventOfCode2021/blob/main/Day12.ipynb\" target=\"_parent\"><img src=\"https://colab.research.google.com/assets/colab-badge.svg\" alt=\"Open In Colab\"/></a>"
      ]
    },
    {
      "cell_type": "code",
      "source": [
        "import requests\n",
        "from collections import defaultdict, Counter\n",
        "\n",
        "req = requests.get(\"https://raw.githubusercontent.com/RobAltena/AdventOfCode2021/main/advent_day12_input.txt\").text\n",
        "\n",
        "def part1_crit(node, path):\n",
        "  return (node not in path) or (not node.islower())\n",
        "\n",
        "def part2_crit(node, path):\n",
        "  if (node in path) and node.islower():\n",
        "      if node in ['start', 'end']:\n",
        "        return False\n",
        "      lower_list = list(filter(lambda x: x.islower(), path))\n",
        "      occurence_count = Counter(lower_list).most_common(1)[0][1]\n",
        "      return (occurence_count == 1)\n",
        "  else:\n",
        "    return True\n",
        "\n",
        "def find_path(s, e, path, crit):\n",
        "  global path_count\n",
        "  path.append(s)\n",
        "  if s == e :\n",
        "    path_count += 1\n",
        "  else:\n",
        "    for node in graph[s]:\n",
        "        if crit(node, path):\n",
        "          find_path(node, e, path, crit)\n",
        "  \n",
        "  path.pop()\n",
        "\n",
        "\n",
        "graph = defaultdict(list)\n",
        "for line in req.split('\\n')[:-1]:\n",
        "  nodes = line.split('-')\n",
        "  graph[nodes[0]].append(nodes[1])\n",
        "  graph[nodes[1]].append(nodes[0])\n",
        "\n",
        "path_count = 0\n",
        "find_path('start', 'end', [], part1_crit)\n",
        "print(\"Day 12 part 1:\",path_count)\n",
        "\n",
        "path_count = 0\n",
        "find_path('start', 'end', [], part2_crit)\n",
        "print(\"Day 12 part 2:\",path_count)\n"
      ],
      "metadata": {
        "id": "9gPvZuUM3Oz3"
      },
      "execution_count": null,
      "outputs": []
    }
  ]
}