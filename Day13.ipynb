{
  "nbformat": 4,
  "nbformat_minor": 0,
  "metadata": {
    "colab": {
      "name": "Day13.ipynb",
      "private_outputs": true,
      "provenance": [],
      "authorship_tag": "ABX9TyMESe5zaP/3Ob5ogAdaD21L",
      "include_colab_link": true
    },
    "kernelspec": {
      "name": "python3",
      "display_name": "Python 3"
    },
    "language_info": {
      "name": "python"
    }
  },
  "cells": [
    {
      "cell_type": "markdown",
      "metadata": {
        "id": "view-in-github",
        "colab_type": "text"
      },
      "source": [
        "<a href=\"https://colab.research.google.com/github/RobAltena/AdventOfCode2021/blob/main/Day13.ipynb\" target=\"_parent\"><img src=\"https://colab.research.google.com/assets/colab-badge.svg\" alt=\"Open In Colab\"/></a>"
      ]
    },
    {
      "cell_type": "code",
      "execution_count": null,
      "metadata": {
        "id": "ivTV6cLPLXJ8"
      },
      "outputs": [],
      "source": [
        "import requests\n",
        "import numpy as np\n",
        "import matplotlib.pyplot as plt\n",
        "\n",
        "req = requests.get(\"https://raw.githubusercontent.com/RobAltena/AdventOfCode2021/main/advent_day13_input.txt\").text\n"
      ]
    },
    {
      "cell_type": "code",
      "source": [
        "def split_fold(x):\n",
        "  x = x.split('=')\n",
        "  return [x[0][-1], int(x[1])]\n",
        "\n",
        "parts = req.split('\\n\\n')\n",
        "points = parts[0].split('\\n')\n",
        "folds = list(map(split_fold, parts[1].split('\\n')[:-1]))\n",
        "points_arr = np.array((list(map(lambda x: x.split(','), points))), dtype=int)"
      ],
      "metadata": {
        "id": "NpzhogloLnF4"
      },
      "execution_count": null,
      "outputs": []
    },
    {
      "cell_type": "code",
      "source": [
        "def fold_x(arr, x):\n",
        "  x_arr = points_arr[:,0]\n",
        "  arr[:,0] = np.where(x_arr < x, x_arr, 2*x -x_arr)\n",
        "\n",
        "def fold_y(arr, y):\n",
        "  y_arr = points_arr[:,1]\n",
        "  arr[:,1] = np.where(y_arr < y, y_arr, 2*y -y_arr)\n",
        "\n",
        "fold_map = {'x': fold_x, 'y':fold_y}\n",
        "\n",
        "def fold_exec(arr, fold):\n",
        "  fold_map[fold[0]](arr, fold[1])"
      ],
      "metadata": {
        "id": "gXgtjsFhQ3gl"
      },
      "execution_count": null,
      "outputs": []
    },
    {
      "cell_type": "code",
      "source": [
        "fold = folds[0]\n",
        "fold_exec(points_arr, fold)\n",
        "print(\"Day 13 part 1:\",np.unique(points_arr, axis=0).shape[0])\n"
      ],
      "metadata": {
        "id": "F1WvY81LOKxI"
      },
      "execution_count": null,
      "outputs": []
    },
    {
      "cell_type": "code",
      "source": [
        " for fold in folds[1:]:\n",
        "   fold_exec(points_arr, fold)\n",
        "\n",
        "sheet = np.ones(points_arr.max(axis=0) +1)\n",
        "for point in points_arr:\n",
        "    sheet [point[0], point[1]] *= 0.95\n",
        "\n",
        "plt.imshow(sheet.transpose(), cmap='viridis')\n",
        "plt.show()"
      ],
      "metadata": {
        "id": "ja4gYw2yQdNF"
      },
      "execution_count": null,
      "outputs": []
    }
  ]
}