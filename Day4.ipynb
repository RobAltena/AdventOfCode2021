{
  "nbformat": 4,
  "nbformat_minor": 0,
  "metadata": {
    "colab": {
      "name": "Day4.ipynb",
      "private_outputs": true,
      "provenance": [],
      "authorship_tag": "ABX9TyN2wIkn2zsZOvpzgVuuUX26",
      "include_colab_link": true
    },
    "kernelspec": {
      "name": "python3",
      "display_name": "Python 3"
    },
    "language_info": {
      "name": "python"
    }
  },
  "cells": [
    {
      "cell_type": "markdown",
      "metadata": {
        "id": "view-in-github",
        "colab_type": "text"
      },
      "source": [
        "<a href=\"https://colab.research.google.com/github/RobAltena/AdventOfCode2021/blob/main/Day4.ipynb\" target=\"_parent\"><img src=\"https://colab.research.google.com/assets/colab-badge.svg\" alt=\"Open In Colab\"/></a>"
      ]
    },
    {
      "cell_type": "code",
      "metadata": {
        "id": "wRaZgyHB2z6x"
      },
      "source": [
        "import requests\n",
        "import numpy as np\n",
        "import pandas as pd\n",
        "\n",
        "req = requests.get(\"https://raw.githubusercontent.com/RobAltena/AdventOfCode2021/main/advent_day4_input.txt\").text"
      ],
      "execution_count": null,
      "outputs": []
    },
    {
      "cell_type": "code",
      "metadata": {
        "id": "4nWRgeF43I58"
      },
      "source": [
        "lines = req.split('\\n\\n')\n",
        "lines[-1] = lines[-1][:-1] #Hack: Remove the last newline from the last line.\n",
        "random_numbers = lines.pop(0)\n",
        "random_numbers = list(map(int,random_numbers.split(\",\")))\n",
        "\n",
        "def bingo_card_from_line(line):\n",
        "  bingo_card_text = map(lambda x: x.strip(), line.split('\\n'))\n",
        "  return pd.DataFrame(bingo_card_text)[0].str.split(expand = True).astype(int)\n",
        "\n",
        "bingo_cards = list(map(bingo_card_from_line, lines))"
      ],
      "execution_count": null,
      "outputs": []
    },
    {
      "cell_type": "code",
      "metadata": {
        "id": "UwwShnzwP6Nv"
      },
      "source": [
        "def check_bingo(bingo_card, numbers):\n",
        "  checked_card = bingo_card.isin(numbers)\n",
        "  res = np.array([checked_card.sum(axis=0).max(),\n",
        "    checked_card.sum(axis=1).max(),\n",
        "    np.diag(checked_card).sum(),\n",
        "    np.fliplr(checked_card).diagonal().sum()]).max() >= 5\n",
        "  return res\n"
      ],
      "execution_count": null,
      "outputs": []
    },
    {
      "cell_type": "code",
      "metadata": {
        "id": "e8rO2x_F4aN9"
      },
      "source": [
        "winning_card = None\n",
        "winning_numbers = None\n",
        "\n",
        "# Play until we have a bingo.\n",
        "for index in range(10, len(random_numbers)):\n",
        "  numbers = random_numbers[:index]\n",
        "  for bingo_card in bingo_cards:\n",
        "    if check_bingo(bingo_card, numbers):\n",
        "      winning_card = bingo_card\n",
        "      winning_numbers = numbers\n",
        "      break\n",
        "  \n",
        "  if winning_card is not None:\n",
        "    break\n",
        "\n",
        "checked_card = winning_card.isin(numbers)\n",
        "sum_of_all_unmarked_numbers = np.nansum(winning_card[~checked_card].to_numpy())\n",
        "number_just_called = winning_numbers[-1]\n",
        "print(\"Day 4 Part 1 answer: \", sum_of_all_unmarked_numbers * number_just_called)"
      ],
      "execution_count": null,
      "outputs": []
    },
    {
      "cell_type": "code",
      "metadata": {
        "id": "Y8hohf6QpDqA"
      },
      "source": [
        "remaining_cards = bingo_cards\n",
        "index = 10\n",
        "# Play until there is one card left.\n",
        "while len(remaining_cards) > 1:\n",
        "  numbers = random_numbers[:index]\n",
        "  remaining_cards = list(filter(lambda x: ~check_bingo(x, numbers), remaining_cards))\n",
        "  index +=1\n",
        "\n",
        "loosing_card = remaining_cards[0]\n",
        "loosing_numbers = None\n",
        "\n",
        "# Now keep playing until this last card gets a bingo:\n",
        "for index in range(index, len(random_numbers)):\n",
        "  numbers = random_numbers[:index]\n",
        "  if check_bingo(loosing_card, numbers):\n",
        "      loosing_numbers = numbers\n",
        "      break\n",
        "\n",
        "checked_card = loosing_card.isin(loosing_numbers)\n",
        "sum_of_all_unmarked_numbers = np.nansum(loosing_card[~checked_card].to_numpy())\n",
        "number_just_called = loosing_numbers[-1]\n",
        "print(\"Day 4 Part 2 answer: \", sum_of_all_unmarked_numbers * number_just_called)"
      ],
      "execution_count": null,
      "outputs": []
    }
  ]
}