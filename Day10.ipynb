{
  "nbformat": 4,
  "nbformat_minor": 0,
  "metadata": {
    "colab": {
      "name": "Day10.ipynb",
      "private_outputs": true,
      "provenance": [],
      "authorship_tag": "ABX9TyPzpvcpUu+Fwd0I3BAwUHFu",
      "include_colab_link": true
    },
    "kernelspec": {
      "name": "python3",
      "display_name": "Python 3"
    },
    "language_info": {
      "name": "python"
    }
  },
  "cells": [
    {
      "cell_type": "markdown",
      "metadata": {
        "id": "view-in-github",
        "colab_type": "text"
      },
      "source": [
        "<a href=\"https://colab.research.google.com/github/RobAltena/AdventOfCode2021/blob/main/Day10.ipynb\" target=\"_parent\"><img src=\"https://colab.research.google.com/assets/colab-badge.svg\" alt=\"Open In Colab\"/></a>"
      ]
    },
    {
      "cell_type": "code",
      "execution_count": null,
      "metadata": {
        "id": "0l63hvH2lvxL"
      },
      "outputs": [],
      "source": [
        "import requests\n",
        "import numpy as np\n",
        "import functools\n",
        "\n",
        "req = requests.get(\"https://raw.githubusercontent.com/RobAltena/AdventOfCode2021/main/advent_day10_input.txt\").text"
      ]
    },
    {
      "cell_type": "code",
      "source": [
        "req_test = \"\"\"[({(<(())[]>[[{[]{<()<>>\n",
        "[(()[<>])]({[<{<<[]>>(\n",
        "{([(<{}[<>[]}>{[]{[(<()>\n",
        "(((({<>}<{<{<>}{[]{[]{}\n",
        "[[<[([]))<([[{}[[()]]]\n",
        "[{[{({}]{}}([{[{{{}}([]\n",
        "{<[[]]>}<{[{[{[]{()[[[]\n",
        "[<(<(<(<{}))><([]([]()\n",
        "<{([([[(<>()){}]>(<<{{\n",
        "<{([{{}}[<[[[<>{}]]]>[]]\n",
        "\"\"\""
      ],
      "metadata": {
        "id": "L7QGVSEOu7Jw"
      },
      "execution_count": null,
      "outputs": []
    },
    {
      "cell_type": "code",
      "source": [
        "lines = req.split('\\n')[:-1]\n",
        "legal_pairs = {'(': ')', '[':']', '{':'}', '<':'>'}\n",
        "keys = legal_pairs.keys()\n",
        "score_table = { ')': 3, ']': 57, '}': 1197, '>': 25137}\n",
        "\n",
        "incomplete_open_chunks = []  #needed for part2\n",
        "\n",
        "first_illegal_characters = []\n",
        "for line in lines:\n",
        "  open_chunks = []\n",
        "  first_illegal_character = '' \n",
        "\n",
        "  for c in line:\n",
        "    if c in keys:\n",
        "      open_chunks.append(c)\n",
        "    else:\n",
        "      open_c = open_chunks.pop()\n",
        "      if c != legal_pairs[open_c] : \n",
        "        first_illegal_character = c\n",
        "        first_illegal_characters.append(c)\n",
        "        break\n",
        "    \n",
        "  if first_illegal_character == '':\n",
        "    incomplete_open_chunks.append(open_chunks)\n",
        "\n",
        "print(\"Day 10 part 1:\", np.sum(list(map(lambda x: score_table[x], first_illegal_characters))))\n"
      ],
      "metadata": {
        "id": "v81_TFbjvDRK"
      },
      "execution_count": null,
      "outputs": []
    },
    {
      "cell_type": "code",
      "source": [
        "score_table2 = { '(': 1, '[': 2, '{': 3, '<': 4}\n",
        "\n",
        "def score_line(line):\n",
        "  return functools.reduce(lambda x,y: 5*x + score_table2[y], reversed(line), 0)\n",
        "\n",
        "line_scores = list(map(score_line, incomplete_open_chunks))\n",
        "middleIndex = int((len(line_scores) - 1)/2)\n",
        "\n",
        "print(\"Day 10 part 2:\", sorted(line_scores)[middleIndex])"
      ],
      "metadata": {
        "id": "ehH5G61K26zh"
      },
      "execution_count": null,
      "outputs": []
    }
  ]
}