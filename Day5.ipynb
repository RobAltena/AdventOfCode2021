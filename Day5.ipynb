{
  "nbformat": 4,
  "nbformat_minor": 0,
  "metadata": {
    "colab": {
      "name": "Day5.ipynb",
      "private_outputs": true,
      "provenance": [],
      "authorship_tag": "ABX9TyMfY2xTdAmy6KuhkcspWTGE",
      "include_colab_link": true
    },
    "kernelspec": {
      "name": "python3",
      "display_name": "Python 3"
    },
    "language_info": {
      "name": "python"
    }
  },
  "cells": [
    {
      "cell_type": "markdown",
      "metadata": {
        "id": "view-in-github",
        "colab_type": "text"
      },
      "source": [
        "<a href=\"https://colab.research.google.com/github/RobAltena/AdventOfCode2021/blob/main/Day5.ipynb\" target=\"_parent\"><img src=\"https://colab.research.google.com/assets/colab-badge.svg\" alt=\"Open In Colab\"/></a>"
      ]
    },
    {
      "cell_type": "code",
      "metadata": {
        "id": "YHrijlLlFFaH"
      },
      "source": [
        "import requests\n",
        "import numpy as np\n",
        "import pandas as pd\n",
        "\n",
        "req = requests.get(\"https://raw.githubusercontent.com/RobAltena/AdventOfCode2021/main/advent_day5_input.txt\").text\n",
        "req_test = \"\"\"0,9 -> 5,9\n",
        "8,0 -> 0,8\n",
        "9,4 -> 3,4\n",
        "2,2 -> 2,1\n",
        "7,0 -> 7,4\n",
        "6,4 -> 2,0\n",
        "0,9 -> 2,9\n",
        "3,4 -> 1,4\n",
        "0,0 -> 8,8\n",
        "5,5 -> 8,2\n",
        "\"\"\""
      ],
      "execution_count": null,
      "outputs": []
    },
    {
      "cell_type": "code",
      "metadata": {
        "id": "Y3nh7XtiFJBc"
      },
      "source": [
        "lines = req.split('\\n')\n",
        "lines.pop() # Hack: removes the last (empty) line."
      ],
      "execution_count": null,
      "outputs": []
    },
    {
      "cell_type": "code",
      "metadata": {
        "id": "r7Z6-qMCF4CG"
      },
      "source": [
        "df = pd.DataFrame(list(map(lambda x: x.replace(' -> ', ','), lines)))[0].str.split(pat=\",\", expand = True).astype(int)\n",
        "df.columns = ['x1', 'y1', 'x2', 'y2']"
      ],
      "execution_count": null,
      "outputs": []
    },
    {
      "cell_type": "code",
      "metadata": {
        "id": "jiVa3x8HJ9j7"
      },
      "source": [
        "map_max = df.max(axis=0).max() +1\n",
        "nav_map = np.zeros([map_max,map_max])\n",
        "for row in df.itertuples():\n",
        "    (x1, x2) = (row.x1, row.x2) if (row.x1 <= row.x2) else (row.x2, row.x1)\n",
        "    (y1, y2) = (row.y1, row.y2) if (row.y1 <= row.y2) else (row.y2, row.y1)\n",
        "\n",
        "    if(x1 == x2) and (y1 == y2):\n",
        "      raise ValueError(\"single point in lines dataframe. \" + str(row.Index) )\n",
        "      print(\"Single point:\", row)\n",
        "    if(x1 == x2):\n",
        "      nav_map[y1:y2+1, x1] += 1\n",
        "    if(y1 == y2):\n",
        "      nav_map[y1, x1:x2+1] += 1\n",
        "    # Ignore all others.\n",
        "  \n",
        "print(\"Day 5 Part 1 :\", (nav_map > 1).sum() )"
      ],
      "execution_count": null,
      "outputs": []
    },
    {
      "cell_type": "code",
      "metadata": {
        "id": "TgE61tFBTCWQ"
      },
      "source": [
        "# Python has no sign. This will do.\n",
        "def sign(x):\n",
        "  return int(np.sign(x))\n",
        "\n",
        "# range from x1 to x2. \n",
        "# work for x1 == x2, works for x1>x2 and x1<x2\n",
        "def make_list(x1, x2):\n",
        "  dx = x2 - x1\n",
        "  if dx == 0:\n",
        "    return [x1]\n",
        "  step = sign(dx)\n",
        "  i = x1-step\n",
        "  res = []\n",
        "  while True:\n",
        "    i+=sign(dx)\n",
        "    res.append(i)\n",
        "    if i == x2:\n",
        "      break\n",
        "\n",
        "  return res\n",
        "\n",
        "map_max = df.max(axis=0).max()+1\n",
        "nav_map = np.zeros([map_max,map_max])\n",
        "for row in df.itertuples():\n",
        "    (x1, x2) = (row.x1, row.x2) if (row.x1 <= row.x2) else (row.x2, row.x1)\n",
        "    (y1, y2) = (row.y1, row.y2) if (row.y1 <= row.y2) else (row.y2, row.y1)\n",
        "\n",
        "    if(x1 == x2) and (y1 == y2):\n",
        "      raise ValueError(\"single point in lines dataframe. \" + str(row.Index) )\n",
        "      print(\"Single point:\", row)\n",
        "    if(x1 == x2):\n",
        "      nav_map[y1:y2+1, x1] += 1\n",
        "    if(y1 == y2):\n",
        "      nav_map[y1, x1:x2+1] += 1\n",
        "    if(x1 != x2) and (y1 != y2):\n",
        "      for x,y in zip(make_list(row.x1,row.x2), make_list(row.y1,row.y2)):\n",
        "          nav_map[x, y] += 1\n",
        "\n",
        "print(\"Day 5 Part 2 :\", (nav_map > 1).sum() )\n"
      ],
      "execution_count": null,
      "outputs": []
    }
  ]
}