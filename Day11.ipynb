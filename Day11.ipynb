{
  "nbformat": 4,
  "nbformat_minor": 0,
  "metadata": {
    "colab": {
      "name": "Day11.ipynb",
      "private_outputs": true,
      "provenance": [],
      "authorship_tag": "ABX9TyM0UbDO4uHpAQrunLfQfDoO",
      "include_colab_link": true
    },
    "kernelspec": {
      "name": "python3",
      "display_name": "Python 3"
    },
    "language_info": {
      "name": "python"
    }
  },
  "cells": [
    {
      "cell_type": "markdown",
      "metadata": {
        "id": "view-in-github",
        "colab_type": "text"
      },
      "source": [
        "<a href=\"https://colab.research.google.com/github/RobAltena/AdventOfCode2021/blob/main/Day11.ipynb\" target=\"_parent\"><img src=\"https://colab.research.google.com/assets/colab-badge.svg\" alt=\"Open In Colab\"/></a>"
      ]
    },
    {
      "cell_type": "code",
      "execution_count": null,
      "metadata": {
        "id": "exPS7iAG_sZm"
      },
      "outputs": [],
      "source": [
        "import numpy as np\n",
        "\n",
        "input = \"\"\"2138862165\n",
        "2726378448\n",
        "3235172758\n",
        "6281242643\n",
        "4256223158\n",
        "1112268142\n",
        "1162836182\n",
        "1543525861\n",
        "1882656326\n",
        "8844263151\"\"\"\n",
        "\n",
        "arr = np.array(list(map(list, input.split('\\n'))), dtype = int)\n",
        "border_map = np.pad(arr, 1, constant_values=-9)\n",
        "border_idx = np.where(border_map<0)\n",
        "total_flash_count = 0\n",
        "step = 0\n",
        "\n",
        "while True:\n",
        "  step += 1\n",
        "  flashes = np.full(border_map.shape, False)\n",
        "\n",
        "  border_map +=1\n",
        "  border_map[border_idx] = -9\n",
        "\n",
        "  while True:\n",
        "    new_flashes = (border_map >=10) ^ flashes\n",
        "    if new_flashes.sum() == 0:\n",
        "        break\n",
        "    flashes |= new_flashes\n",
        "\n",
        "    for x in [-1,0,1]:\n",
        "      for y in [-1,0,1]:\n",
        "        border_map += np.roll(new_flashes, (y,x), axis=(0,1))\n",
        "\n",
        "  border_map[flashes] = 0\n",
        "\n",
        "  flash_count = flashes.sum()\n",
        "  total_flash_count += flash_count\n",
        "\n",
        "  if step == 100:\n",
        "     print(\"Day 11 part 1:\", total_flash_count)\n",
        "  if flash_count == 100:\n",
        "    print(\"Day 11 part 2:\", step)\n",
        "    break"
      ]
    }
  ]
}