{
  "nbformat": 4,
  "nbformat_minor": 0,
  "metadata": {
    "colab": {
      "name": "Day2.ipynb",
      "private_outputs": true,
      "provenance": [],
      "authorship_tag": "ABX9TyMyauTU1D3leMKhMzQ7TsvF",
      "include_colab_link": true
    },
    "kernelspec": {
      "name": "python3",
      "display_name": "Python 3"
    },
    "language_info": {
      "name": "python"
    }
  },
  "cells": [
    {
      "cell_type": "markdown",
      "metadata": {
        "id": "view-in-github",
        "colab_type": "text"
      },
      "source": [
        "<a href=\"https://colab.research.google.com/github/RobAltena/AdventOfCode2021/blob/main/Day2.ipynb\" target=\"_parent\"><img src=\"https://colab.research.google.com/assets/colab-badge.svg\" alt=\"Open In Colab\"/></a>"
      ]
    },
    {
      "cell_type": "code",
      "metadata": {
        "id": "3hi0ulI1iDVd"
      },
      "source": [
        "import pandas as pd\n",
        "df = pd.read_csv('https://raw.githubusercontent.com/RobAltena/AdventOfCode2021/main/advent_day2_input.txt',header=None, usecols=[0, 1], sep=\" \")\n"
      ],
      "execution_count": null,
      "outputs": []
    },
    {
      "cell_type": "code",
      "metadata": {
        "id": "ZcZCSgW5iwZo"
      },
      "source": [
        "df2 = df.groupby([0]).sum()\n",
        "print(\"Day2, Part 1: \", df2.loc['forward'] * (df2.loc['down'] - df2.loc['up']))"
      ],
      "execution_count": null,
      "outputs": []
    },
    {
      "cell_type": "code",
      "metadata": {
        "id": "HLiQT529m3Xz"
      },
      "source": [
        "df['aim'] = (df[0].map({'forward': 0, 'down': 1, 'up':-1}) * df[1]).cumsum()\n",
        "df['horizontal'] = (df[0].map({'forward': 1, 'down': 0, 'up':0}) * df[1]).cumsum()\n",
        "df['depth'] = (df[0].map({'forward': 1, 'down': 0, 'up':0}) * df[1] * df['aim']).cumsum()\n",
        "print(\"Day2, Part 1: \", df.iloc[-1].horizontal * df.iloc[-1].depth)"
      ],
      "execution_count": null,
      "outputs": []
    }
  ]
}