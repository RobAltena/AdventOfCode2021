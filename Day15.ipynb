{
  "nbformat": 4,
  "nbformat_minor": 0,
  "metadata": {
    "colab": {
      "name": "Day15.ipynb",
      "private_outputs": true,
      "provenance": [],
      "authorship_tag": "ABX9TyP92LR4cVpQx3w5oAkY+rpN",
      "include_colab_link": true
    },
    "kernelspec": {
      "name": "python3",
      "display_name": "Python 3"
    },
    "language_info": {
      "name": "python"
    }
  },
  "cells": [
    {
      "cell_type": "markdown",
      "metadata": {
        "id": "view-in-github",
        "colab_type": "text"
      },
      "source": [
        "<a href=\"https://colab.research.google.com/github/RobAltena/AdventOfCode2021/blob/main/Day15.ipynb\" target=\"_parent\"><img src=\"https://colab.research.google.com/assets/colab-badge.svg\" alt=\"Open In Colab\"/></a>"
      ]
    },
    {
      "cell_type": "code",
      "execution_count": null,
      "metadata": {
        "id": "ZjwnuhYqolCo"
      },
      "outputs": [],
      "source": [
        "import requests\n",
        "import queue\n",
        "import numpy as np\n",
        "\n",
        "req = requests.get(\"https://raw.githubusercontent.com/RobAltena/AdventOfCode2021/main/advent_day15_input.txt\").text\n",
        "\n",
        "points_arr = np.array((list(map(list, req.split('\\n')[:-1]))), dtype=int)\n",
        "border_map = np.pad(points_arr, 1, constant_values=-1)"
      ]
    },
    {
      "cell_type": "code",
      "source": [
        "directions = [(-1,0), (1,0), (0,-1), (0,1)]\n",
        "\n",
        "def heuristic(a, b):\n",
        "    return abs(a[0] - b[0]) + abs(a[1] - b[1])\n",
        "\n",
        "def a_star_search(start, goal):\n",
        "    frontier = queue.PriorityQueue()\n",
        "    frontier.put(start, 0)\n",
        "    came_from = {}\n",
        "    cost_so_far = {}\n",
        "    came_from[start] = None\n",
        "    cost_so_far[start] = 0\n",
        "    \n",
        "    while not frontier.empty():\n",
        "        current = frontier.get()\n",
        "        \n",
        "        if current == goal:\n",
        "            break\n",
        "        \n",
        "        for d in directions:\n",
        "            next = (current[0]+d[0], current[1]+d[1])\n",
        "            if border_map[next] >= 0:\n",
        "              new_cost = cost_so_far[current] + border_map[next]\n",
        "              if next not in cost_so_far or new_cost < cost_so_far[next]:\n",
        "                  cost_so_far[next] = new_cost\n",
        "                  priority = new_cost + heuristic(next, goal)\n",
        "                  frontier.put(next, priority)\n",
        "                  came_from[next] = current\n",
        "    \n",
        "    return came_from, cost_so_far"
      ],
      "metadata": {
        "id": "Cn7OkhMSATcg"
      },
      "execution_count": null,
      "outputs": []
    },
    {
      "cell_type": "code",
      "source": [
        "goal = (border_map.shape[0] - 2, border_map.shape[1] - 2)\n",
        "came_from, cost_so_far = a_star_search((1,1), goal)\n",
        "print(\"Day 15 part 1:\", cost_so_far[goal])\n"
      ],
      "metadata": {
        "id": "F8vlAuHTCjtC"
      },
      "execution_count": null,
      "outputs": []
    },
    {
      "cell_type": "code",
      "source": [
        "points_arr = np.concatenate([points_arr, points_arr + 1, points_arr + 2, points_arr + 3, points_arr + 4], axis=0)\n",
        "points_arr = np.concatenate([points_arr, points_arr + 1, points_arr + 2, points_arr + 3, points_arr + 4], axis=1)\n",
        "points_arr = np.where(points_arr<10, points_arr, points_arr-9)\n",
        "border_map = np.pad(points_arr, 1, constant_values=-1)"
      ],
      "metadata": {
        "id": "M7jWzfgpEz5f"
      },
      "execution_count": null,
      "outputs": []
    },
    {
      "cell_type": "code",
      "source": [
        "goal = (border_map.shape[0] - 2, border_map.shape[1] - 2)\n",
        "came_from, cost_so_far = a_star_search((1,1), goal)\n",
        "print(\"Day 15 part 2:\", cost_so_far[goal])"
      ],
      "metadata": {
        "id": "yu37HmoDHksV"
      },
      "execution_count": null,
      "outputs": []
    }
  ]
}